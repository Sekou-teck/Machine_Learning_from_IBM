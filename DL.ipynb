{
    "cells": [
        {
            "cell_type": "code",
            "execution_count": 1,
            "metadata": {},
            "outputs": [
                {
                    "name": "stdout",
                    "output_type": "stream",
                    "text": "[1 3 7 9]\n"
                }
            ],
            "source": "import numpy as np\na = np.array([1,3,7,9])\nprint(a)"
        },
        {
            "cell_type": "code",
            "execution_count": null,
            "metadata": {},
            "outputs": [],
            "source": "import time\na = np.random.rand(1000000)\nb = np.random.rand(1000000)\ntic = time.time()\nc= np.dot(a,b)\ntoc = time.time()\nprint(c)\nprint(\"Vectorized version :\" + str(1000*(toc-tic)) + \"ms\")\nc=0\ntic = time.time()\nfor i in range(1000000):\n    c += a[i]*b[i]\ntoc = time.time()\nprint(c)\nprint(\"for loop :\" + str(1000*(toc-tic)) + \"ms\")\n"
        },
        {
            "cell_type": "code",
            "execution_count": null,
            "metadata": {},
            "outputs": [],
            "source": ""
        }
    ],
    "metadata": {
        "kernelspec": {
            "display_name": "Python 3.6",
            "language": "python",
            "name": "python3"
        },
        "language_info": {
            "codemirror_mode": {
                "name": "ipython",
                "version": 3
            },
            "file_extension": ".py",
            "mimetype": "text/x-python",
            "name": "python",
            "nbconvert_exporter": "python",
            "pygments_lexer": "ipython3",
            "version": "3.6.9"
        }
    },
    "nbformat": 4,
    "nbformat_minor": 1
}