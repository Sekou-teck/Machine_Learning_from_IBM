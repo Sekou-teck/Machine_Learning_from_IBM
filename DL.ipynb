{
    "cells": [
        {
            "cell_type": "code",
            "execution_count": 1,
            "metadata": {},
            "outputs": [
                {
                    "name": "stdout",
                    "output_type": "stream",
                    "text": "[1 3 7 9]\n"
                }
            ],
            "source": "import numpy as np\na = np.array([1,3,7,9])\nprint(a)"
        },
        {
            "cell_type": "markdown",
            "metadata": {},
            "source": "# Vectorization"
        },
        {
            "cell_type": "code",
            "execution_count": null,
            "metadata": {},
            "outputs": [],
            "source": "import time\na = np.random.rand(1000000)\nb = np.random.rand(1000000)\ntic = time.time()\nc= np.dot(a,b)\ntoc = time.time()\nprint(c)\nprint(\"Vectorized version :\" + str(1000*(toc-tic)) + \"ms\")\nc=0\ntic = time.time()\nfor i in range(1000000):\n    c += a[i]*b[i]\ntoc = time.time()\nprint(c)\nprint(\"for loop :\" + str(1000*(toc-tic)) + \"ms\")\n"
        },
        {
            "cell_type": "markdown",
            "metadata": {},
            "source": "# Broadcasting in Python"
        },
        {
            "cell_type": "code",
            "execution_count": 3,
            "metadata": {},
            "outputs": [
                {
                    "name": "stdout",
                    "output_type": "stream",
                    "text": "[[ 56.    0.    4.4  68. ]\n [  1.2 104.   52.    8. ]\n [  1.8 135.   99.    0.9]]\n"
                }
            ],
            "source": "import numpy as np\nA = np.array([\n    [56.0, 0.0, 4.4, 68.0],\n    [1.2, 104.0, 52.0, 8.0],\n    [1.8, 135.0, 99.0, 0.9]\n])\nprint(A)\n"
        },
        {
            "cell_type": "code",
            "execution_count": 4,
            "metadata": {},
            "outputs": [
                {
                    "name": "stdout",
                    "output_type": "stream",
                    "text": "[ 59.  239.  155.4  76.9]\n"
                }
            ],
            "source": "cal = A.sum(axis=0)\nprint(cal)"
        },
        {
            "cell_type": "code",
            "execution_count": 7,
            "metadata": {},
            "outputs": [
                {
                    "name": "stdout",
                    "output_type": "stream",
                    "text": "[[94.91525424  0.          2.83140283 88.42652796]\n [ 2.03389831 43.51464435 33.46203346 10.40312094]\n [ 3.05084746 56.48535565 63.70656371  1.17035111]]\n"
                }
            ],
            "source": "percentage = 100*A/cal.reshape(1,4)\nprint(percentage)"
        },
        {
            "cell_type": "markdown",
            "metadata": {},
            "source": "# Some examples for broadcasting numpy"
        },
        {
            "cell_type": "code",
            "execution_count": 8,
            "metadata": {},
            "outputs": [
                {
                    "name": "stdout",
                    "output_type": "stream",
                    "text": "[ 0.86516415  1.52913747  0.58538056  0.59534182 -0.28992696]\n"
                }
            ],
            "source": "a = np.random.randn(5)\nprint(a)"
        },
        {
            "cell_type": "code",
            "execution_count": 9,
            "metadata": {},
            "outputs": [
                {
                    "name": "stdout",
                    "output_type": "stream",
                    "text": "(5,)\n"
                }
            ],
            "source": "print(a.shape)"
        },
        {
            "cell_type": "code",
            "execution_count": 10,
            "metadata": {},
            "outputs": [
                {
                    "name": "stdout",
                    "output_type": "stream",
                    "text": "[ 0.86516415  1.52913747  0.58538056  0.59534182 -0.28992696]\n"
                }
            ],
            "source": "print(a.T)"
        },
        {
            "cell_type": "code",
            "execution_count": 11,
            "metadata": {},
            "outputs": [
                {
                    "name": "stdout",
                    "output_type": "stream",
                    "text": "3.867930346966168\n"
                }
            ],
            "source": "print(np.dot(a, a.T))"
        },
        {
            "cell_type": "code",
            "execution_count": 12,
            "metadata": {},
            "outputs": [
                {
                    "name": "stdout",
                    "output_type": "stream",
                    "text": "[[-1.30665378]\n [-1.86479016]\n [ 1.17163927]\n [-0.98378383]\n [-1.04551018]]\n"
                }
            ],
            "source": "a = np.random.randn(5, 1)\nprint(a)"
        },
        {
            "cell_type": "code",
            "execution_count": 13,
            "metadata": {},
            "outputs": [
                {
                    "name": "stdout",
                    "output_type": "stream",
                    "text": "[[-1.30665378 -1.86479016  1.17163927 -0.98378383 -1.04551018]]\n"
                }
            ],
            "source": "print(a.T)"
        },
        {
            "cell_type": "code",
            "execution_count": 14,
            "metadata": {},
            "outputs": [
                {
                    "name": "stdout",
                    "output_type": "stream",
                    "text": "[[ 1.70734411  2.43663512 -1.53092689  1.28546486  1.36611983]\n [ 2.43663512  3.47744235 -2.18486139  1.83455041  1.9496571 ]\n [-1.53092689 -2.18486139  1.37273859 -1.15263977 -1.22496079]\n [ 1.28546486  1.83455041 -1.15263977  0.96783062  1.02855601]\n [ 1.36611983  1.9496571  -1.22496079  1.02855601  1.09309154]]\n"
                }
            ],
            "source": "print(np.dot(a, a.T))"
        },
        {
            "cell_type": "code",
            "execution_count": 15,
            "metadata": {},
            "outputs": [
                {
                    "name": "stdout",
                    "output_type": "stream",
                    "text": "[[ 0.29530546 -1.45967881  0.90648168]\n [ 0.26119432 -1.05851359 -0.73099444]]\n"
                }
            ],
            "source": "k = np.random.randn(2, 3)\nj = np.random.randn(2, 1)\nm = k + j\nprint(k)"
        },
        {
            "cell_type": "code",
            "execution_count": 16,
            "metadata": {},
            "outputs": [
                {
                    "name": "stdout",
                    "output_type": "stream",
                    "text": "[[ 0.29530546 -1.45967881  0.90648168]\n [ 0.26119432 -1.05851359 -0.73099444]] [[ 1.41903376]\n [-0.93504614]]\n"
                }
            ],
            "source": "print(k, j)"
        },
        {
            "cell_type": "code",
            "execution_count": 17,
            "metadata": {},
            "outputs": [
                {
                    "name": "stdout",
                    "output_type": "stream",
                    "text": "[[ 1.41903376]\n [-0.93504614]]\n"
                }
            ],
            "source": "print(j)"
        },
        {
            "cell_type": "code",
            "execution_count": 18,
            "metadata": {},
            "outputs": [
                {
                    "name": "stdout",
                    "output_type": "stream",
                    "text": "[[ 1.71433923 -0.04064505  2.32551544]\n [-0.67385182 -1.99355972 -1.66604058]]\n"
                }
            ],
            "source": "print(m)"
        },
        {
            "cell_type": "code",
            "execution_count": 20,
            "metadata": {},
            "outputs": [
                {
                    "name": "stdout",
                    "output_type": "stream",
                    "text": "(2, 3)\n"
                }
            ],
            "source": "print(m.shape)"
        },
        {
            "cell_type": "code",
            "execution_count": 26,
            "metadata": {},
            "outputs": [
                {
                    "ename": "ValueError",
                    "evalue": "operands could not be broadcast together with shapes (4,3) (3,2) ",
                    "output_type": "error",
                    "traceback": [
                        "\u001b[0;31m---------------------------------------------------------------------------\u001b[0m",
                        "\u001b[0;31mValueError\u001b[0m                                Traceback (most recent call last)",
                        "\u001b[0;32m<ipython-input-26-809b41a4ac49>\u001b[0m in \u001b[0;36m<module>\u001b[0;34m\u001b[0m\n\u001b[1;32m      1\u001b[0m \u001b[0mp\u001b[0m \u001b[0;34m=\u001b[0m \u001b[0mnp\u001b[0m\u001b[0;34m.\u001b[0m\u001b[0mrandom\u001b[0m\u001b[0;34m.\u001b[0m\u001b[0mrandn\u001b[0m\u001b[0;34m(\u001b[0m\u001b[0;36m4\u001b[0m\u001b[0;34m,\u001b[0m \u001b[0;36m3\u001b[0m\u001b[0;34m)\u001b[0m\u001b[0;34m\u001b[0m\u001b[0;34m\u001b[0m\u001b[0m\n\u001b[1;32m      2\u001b[0m \u001b[0ml\u001b[0m \u001b[0;34m=\u001b[0m \u001b[0mnp\u001b[0m\u001b[0;34m.\u001b[0m\u001b[0mrandom\u001b[0m\u001b[0;34m.\u001b[0m\u001b[0mrandn\u001b[0m\u001b[0;34m(\u001b[0m\u001b[0;36m3\u001b[0m\u001b[0;34m,\u001b[0m \u001b[0;36m2\u001b[0m\u001b[0;34m)\u001b[0m\u001b[0;34m\u001b[0m\u001b[0;34m\u001b[0m\u001b[0m\n\u001b[0;32m----> 3\u001b[0;31m \u001b[0mq\u001b[0m  \u001b[0;34m=\u001b[0m \u001b[0mp\u001b[0m \u001b[0;34m*\u001b[0m \u001b[0ml\u001b[0m\u001b[0;34m\u001b[0m\u001b[0;34m\u001b[0m\u001b[0m\n\u001b[0m\u001b[1;32m      4\u001b[0m \u001b[0mprint\u001b[0m\u001b[0;34m(\u001b[0m\u001b[0mp\u001b[0m\u001b[0;34m)\u001b[0m\u001b[0;34m\u001b[0m\u001b[0;34m\u001b[0m\u001b[0m\n",
                        "\u001b[0;31mValueError\u001b[0m: operands could not be broadcast together with shapes (4,3) (3,2) "
                    ]
                }
            ],
            "source": "p = np.random.randn(4, 3)\nl = np.random.randn(3, 2)\nq  = p * l\nprint(p)"
        },
        {
            "cell_type": "code",
            "execution_count": 27,
            "metadata": {},
            "outputs": [
                {
                    "name": "stdout",
                    "output_type": "stream",
                    "text": "[[-0.33397588 -0.40989727 -0.62356525]\n [-1.02288359 -0.7338046   2.13398948]\n [ 0.22794931  1.38861069 -1.39479969]\n [-1.15170826 -0.76730624  0.13757393]]\n"
                }
            ],
            "source": "print(p)"
        },
        {
            "cell_type": "code",
            "execution_count": 28,
            "metadata": {},
            "outputs": [
                {
                    "name": "stdout",
                    "output_type": "stream",
                    "text": "[[-0.71403893  0.94094441]\n [-0.129377   -0.84783929]\n [-0.63802083  1.10308225]]\n"
                }
            ],
            "source": "print(l)"
        },
        {
            "cell_type": "code",
            "execution_count": 29,
            "metadata": {},
            "outputs": [
                {
                    "ename": "NameError",
                    "evalue": "name 'q' is not defined",
                    "output_type": "error",
                    "traceback": [
                        "\u001b[0;31m---------------------------------------------------------------------------\u001b[0m",
                        "\u001b[0;31mNameError\u001b[0m                                 Traceback (most recent call last)",
                        "\u001b[0;32m<ipython-input-29-c60a4950fb98>\u001b[0m in \u001b[0;36m<module>\u001b[0;34m\u001b[0m\n\u001b[0;32m----> 1\u001b[0;31m \u001b[0mprint\u001b[0m\u001b[0;34m(\u001b[0m\u001b[0mq\u001b[0m\u001b[0;34m.\u001b[0m\u001b[0mshape\u001b[0m\u001b[0;34m)\u001b[0m\u001b[0;34m\u001b[0m\u001b[0;34m\u001b[0m\u001b[0m\n\u001b[0m",
                        "\u001b[0;31mNameError\u001b[0m: name 'q' is not defined"
                    ]
                }
            ],
            "source": "print(q.shape)"
        },
        {
            "cell_type": "code",
            "execution_count": 31,
            "metadata": {},
            "outputs": [
                {
                    "ename": "ValueError",
                    "evalue": "operands could not be broadcast together with shapes (4,3) (3,2) ",
                    "output_type": "error",
                    "traceback": [
                        "\u001b[0;31m---------------------------------------------------------------------------\u001b[0m",
                        "\u001b[0;31mValueError\u001b[0m                                Traceback (most recent call last)",
                        "\u001b[0;32m<ipython-input-31-4d6b1106b1b8>\u001b[0m in \u001b[0;36m<module>\u001b[0;34m\u001b[0m\n\u001b[0;32m----> 1\u001b[0;31m \u001b[0mq\u001b[0m \u001b[0;34m=\u001b[0m \u001b[0mp\u001b[0m \u001b[0;34m*\u001b[0m \u001b[0ml\u001b[0m\u001b[0;34m\u001b[0m\u001b[0;34m\u001b[0m\u001b[0m\n\u001b[0m\u001b[1;32m      2\u001b[0m \u001b[0mprint\u001b[0m\u001b[0;34m(\u001b[0m\u001b[0mq\u001b[0m\u001b[0;34m)\u001b[0m\u001b[0;34m\u001b[0m\u001b[0;34m\u001b[0m\u001b[0m\n",
                        "\u001b[0;31mValueError\u001b[0m: operands could not be broadcast together with shapes (4,3) (3,2) "
                    ]
                }
            ],
            "source": "q = p * l\nprint(q)"
        },
        {
            "cell_type": "code",
            "execution_count": 32,
            "metadata": {},
            "outputs": [],
            "source": "q = np.dot(p, l)"
        },
        {
            "cell_type": "code",
            "execution_count": 33,
            "metadata": {},
            "outputs": [
                {
                    "name": "stdout",
                    "output_type": "stream",
                    "text": "[[ 0.68935068 -0.65456948]\n [-0.5362136   2.01363769]\n [ 0.54749228 -2.50140984]\n [ 0.83386128 -0.28138571]]\n"
                }
            ],
            "source": "print(q)"
        },
        {
            "cell_type": "code",
            "execution_count": 34,
            "metadata": {},
            "outputs": [],
            "source": "a = np.random.randn(12288, 150) # a.shape = (12288, 150)\nb = np.random.randn(150, 45) # b.shape = (150, 45)\nc = np.dot(a,b)"
        },
        {
            "cell_type": "code",
            "execution_count": 35,
            "metadata": {},
            "outputs": [
                {
                    "name": "stdout",
                    "output_type": "stream",
                    "text": "(12288, 45)\n"
                }
            ],
            "source": "print(c.shape)"
        },
        {
            "cell_type": "code",
            "execution_count": 37,
            "metadata": {},
            "outputs": [],
            "source": "# a.shape = (3,4)\n# b.shape = (4,1)\n\nfor i in range(3):\n  for j in range(4):\n    f = a[i][j] + b[j]"
        },
        {
            "cell_type": "code",
            "execution_count": 38,
            "metadata": {},
            "outputs": [
                {
                    "name": "stdout",
                    "output_type": "stream",
                    "text": "[ 0.41225126  2.28227551  1.0451949   0.39751085 -0.69945508  0.83352763\n -2.76919632 -0.29554291  0.21202522  0.29126077 -0.32744232 -0.9343649\n  1.00582505  0.37051212 -0.73138452 -1.30560306 -0.59671141  0.05837952\n  0.77420686 -0.88763531 -1.03179935  0.56470808  1.26326846 -0.0480113\n  0.80248716 -2.00079325  0.18146493 -1.21805606 -1.75203914  0.1469906\n -0.60566117 -0.92418614  0.97239026 -0.27255421 -1.70793484  2.49298618\n -0.84536914  1.23841656 -0.96610175  1.08331683 -0.19226112 -0.18708762\n -0.93805936  0.46057876 -0.56536056]\n"
                }
            ],
            "source": "print(f)"
        },
        {
            "cell_type": "code",
            "execution_count": 39,
            "metadata": {},
            "outputs": [
                {
                    "name": "stdout",
                    "output_type": "stream",
                    "text": "2\n"
                }
            ],
            "source": "print(i)"
        },
        {
            "cell_type": "code",
            "execution_count": 40,
            "metadata": {},
            "outputs": [
                {
                    "name": "stdout",
                    "output_type": "stream",
                    "text": "3\n"
                }
            ],
            "source": "print(j)"
        },
        {
            "cell_type": "code",
            "execution_count": 44,
            "metadata": {},
            "outputs": [],
            "source": "a = np.random.randn(4, 3)\nb = np.random.randn(3, 2)\n##c = a*b"
        },
        {
            "cell_type": "code",
            "execution_count": 45,
            "metadata": {},
            "outputs": [
                {
                    "name": "stdout",
                    "output_type": "stream",
                    "text": "(3, 3)\n"
                }
            ],
            "source": "print(c.shape)"
        },
        {
            "cell_type": "code",
            "execution_count": null,
            "metadata": {},
            "outputs": [],
            "source": ""
        }
    ],
    "metadata": {
        "kernelspec": {
            "display_name": "Python 3.6",
            "language": "python",
            "name": "python3"
        },
        "language_info": {
            "codemirror_mode": {
                "name": "ipython",
                "version": 3
            },
            "file_extension": ".py",
            "mimetype": "text/x-python",
            "name": "python",
            "nbconvert_exporter": "python",
            "pygments_lexer": "ipython3",
            "version": "3.6.9"
        }
    },
    "nbformat": 4,
    "nbformat_minor": 1
}